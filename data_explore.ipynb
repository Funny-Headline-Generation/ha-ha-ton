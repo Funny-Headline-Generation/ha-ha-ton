{
 "cells": [
  {
   "cell_type": "code",
   "execution_count": 4,
   "metadata": {},
   "outputs": [],
   "source": [
    "import os\n",
    "\n",
    "import pandas as pd"
   ]
  },
  {
   "cell_type": "code",
   "execution_count": 7,
   "metadata": {},
   "outputs": [],
   "source": [
    "DATA_PATH = './data/'"
   ]
  },
  {
   "cell_type": "code",
   "execution_count": 8,
   "metadata": {},
   "outputs": [],
   "source": [
    "files = os.listdir(DATA_PATH)"
   ]
  },
  {
   "cell_type": "code",
   "execution_count": 9,
   "metadata": {},
   "outputs": [
    {
     "data": {
      "text/plain": [
       "['Hand-annotated - 2.xlsx',\n",
       " 'Hand-annotated - 3.xlsx',\n",
       " 'Changed_collocations - 2.xlsx',\n",
       " 'Changed_collocations - 1.xlsx',\n",
       " 'Hand-annotated - 1.xlsx']"
      ]
     },
     "execution_count": 9,
     "metadata": {},
     "output_type": "execute_result"
    }
   ],
   "source": [
    "files"
   ]
  },
  {
   "cell_type": "markdown",
   "metadata": {},
   "source": [
    "## Hand-annotated"
   ]
  },
  {
   "cell_type": "code",
   "execution_count": 15,
   "metadata": {},
   "outputs": [],
   "source": [
    "df = pd.read_excel(DATA_PATH + 'Hand-annotated - 1.xlsx')"
   ]
  },
  {
   "cell_type": "code",
   "execution_count": 17,
   "metadata": {},
   "outputs": [
    {
     "data": {
      "text/html": [
       "<div>\n",
       "<style scoped>\n",
       "    .dataframe tbody tr th:only-of-type {\n",
       "        vertical-align: middle;\n",
       "    }\n",
       "\n",
       "    .dataframe tbody tr th {\n",
       "        vertical-align: top;\n",
       "    }\n",
       "\n",
       "    .dataframe thead th {\n",
       "        text-align: right;\n",
       "    }\n",
       "</style>\n",
       "<table border=\"1\" class=\"dataframe\">\n",
       "  <thead>\n",
       "    <tr style=\"text-align: right;\">\n",
       "      <th></th>\n",
       "      <th>id</th>\n",
       "      <th>title</th>\n",
       "      <th>альтернативный title</th>\n",
       "      <th>Humorousness</th>\n",
       "      <th>Appropriateness</th>\n",
       "      <th>Grammaticality</th>\n",
       "    </tr>\n",
       "  </thead>\n",
       "  <tbody>\n",
       "    <tr>\n",
       "      <th>0</th>\n",
       "      <td>251118</td>\n",
       "      <td>In Japan, a Liberal Maverick Is Seeking to Lea...</td>\n",
       "      <td>In Japan, a Liberal Maverick Is leaking to Lea...</td>\n",
       "      <td>1.0</td>\n",
       "      <td>1.0</td>\n",
       "      <td>2.0</td>\n",
       "    </tr>\n",
       "    <tr>\n",
       "      <th>1</th>\n",
       "      <td>134164</td>\n",
       "      <td>Icahn, Ross saved Trump brand from Taj Mahal c...</td>\n",
       "      <td>Icahn, Ross saved Trump trend from Taj Mahal c...</td>\n",
       "      <td>2.0</td>\n",
       "      <td>3.0</td>\n",
       "      <td>3.0</td>\n",
       "    </tr>\n",
       "    <tr>\n",
       "      <th>2</th>\n",
       "      <td>49016</td>\n",
       "      <td>Reports: Mitt Romney to Meet President-Elect T...</td>\n",
       "      <td>Reports: Mitt Romney to beat President-Elect T...</td>\n",
       "      <td>3.0</td>\n",
       "      <td>2.0</td>\n",
       "      <td>3.0</td>\n",
       "    </tr>\n",
       "    <tr>\n",
       "      <th>3</th>\n",
       "      <td>268862</td>\n",
       "      <td>SpaceX Is Now One of the World’s Most Valuable...</td>\n",
       "      <td>SpaceX Is Now One of the World’s Most Valuable...</td>\n",
       "      <td>2.0</td>\n",
       "      <td>2.0</td>\n",
       "      <td>3.0</td>\n",
       "    </tr>\n",
       "    <tr>\n",
       "      <th>4</th>\n",
       "      <td>74399</td>\n",
       "      <td>The Atlantic Politics &amp; Policy Daily: The Boys...</td>\n",
       "      <td>The Atlantic Politics &amp; Policy Daily: The Boys...</td>\n",
       "      <td>2.0</td>\n",
       "      <td>1.0</td>\n",
       "      <td>1.0</td>\n",
       "    </tr>\n",
       "    <tr>\n",
       "      <th>...</th>\n",
       "      <td>...</td>\n",
       "      <td>...</td>\n",
       "      <td>...</td>\n",
       "      <td>...</td>\n",
       "      <td>...</td>\n",
       "      <td>...</td>\n",
       "    </tr>\n",
       "    <tr>\n",
       "      <th>65</th>\n",
       "      <td>213769</td>\n",
       "      <td>These Black Lives Matters protesters planned a...</td>\n",
       "      <td>These Black Lives Matters protesters planned a...</td>\n",
       "      <td>1.0</td>\n",
       "      <td>0.0</td>\n",
       "      <td>2.0</td>\n",
       "    </tr>\n",
       "    <tr>\n",
       "      <th>66</th>\n",
       "      <td>104403</td>\n",
       "      <td>Google Will Connect Public Housing Communities...</td>\n",
       "      <td>Google Will Connect Whore Housing Communities ...</td>\n",
       "      <td>0.0</td>\n",
       "      <td>0.0</td>\n",
       "      <td>0.0</td>\n",
       "    </tr>\n",
       "    <tr>\n",
       "      <th>67</th>\n",
       "      <td>44549</td>\n",
       "      <td>Texas Middle Schooler Takes Knee to Protest Pl...</td>\n",
       "      <td>Texas Middle Schooler Takes Refugees to Protes...</td>\n",
       "      <td>1.0</td>\n",
       "      <td>1.0</td>\n",
       "      <td>3.0</td>\n",
       "    </tr>\n",
       "    <tr>\n",
       "      <th>68</th>\n",
       "      <td>52115</td>\n",
       "      <td>McCain, Graham give their view of Trump’s pres...</td>\n",
       "      <td>McCain, Graham give their view of Trump's hair...</td>\n",
       "      <td>3.0</td>\n",
       "      <td>1.0</td>\n",
       "      <td>3.0</td>\n",
       "    </tr>\n",
       "    <tr>\n",
       "      <th>69</th>\n",
       "      <td>170171</td>\n",
       "      <td>A Small Town Bands Together To Provide Opioid ...</td>\n",
       "      <td>Small Town Bands to Provide Opiod Addiction Fe...</td>\n",
       "      <td>2.0</td>\n",
       "      <td>1.0</td>\n",
       "      <td>3.0</td>\n",
       "    </tr>\n",
       "  </tbody>\n",
       "</table>\n",
       "<p>70 rows × 6 columns</p>\n",
       "</div>"
      ],
      "text/plain": [
       "        id                                              title  \\\n",
       "0   251118  In Japan, a Liberal Maverick Is Seeking to Lea...   \n",
       "1   134164  Icahn, Ross saved Trump brand from Taj Mahal c...   \n",
       "2    49016  Reports: Mitt Romney to Meet President-Elect T...   \n",
       "3   268862  SpaceX Is Now One of the World’s Most Valuable...   \n",
       "4    74399  The Atlantic Politics & Policy Daily: The Boys...   \n",
       "..     ...                                                ...   \n",
       "65  213769  These Black Lives Matters protesters planned a...   \n",
       "66  104403  Google Will Connect Public Housing Communities...   \n",
       "67   44549  Texas Middle Schooler Takes Knee to Protest Pl...   \n",
       "68   52115  McCain, Graham give their view of Trump’s pres...   \n",
       "69  170171  A Small Town Bands Together To Provide Opioid ...   \n",
       "\n",
       "                                 альтернативный title  Humorousness  \\\n",
       "0   In Japan, a Liberal Maverick Is leaking to Lea...           1.0   \n",
       "1   Icahn, Ross saved Trump trend from Taj Mahal c...           2.0   \n",
       "2   Reports: Mitt Romney to beat President-Elect T...           3.0   \n",
       "3   SpaceX Is Now One of the World’s Most Valuable...           2.0   \n",
       "4   The Atlantic Politics & Policy Daily: The Boys...           2.0   \n",
       "..                                                ...           ...   \n",
       "65  These Black Lives Matters protesters planned a...           1.0   \n",
       "66  Google Will Connect Whore Housing Communities ...           0.0   \n",
       "67  Texas Middle Schooler Takes Refugees to Protes...           1.0   \n",
       "68  McCain, Graham give their view of Trump's hair...           3.0   \n",
       "69  Small Town Bands to Provide Opiod Addiction Fe...           2.0   \n",
       "\n",
       "    Appropriateness  Grammaticality  \n",
       "0               1.0             2.0  \n",
       "1               3.0             3.0  \n",
       "2               2.0             3.0  \n",
       "3               2.0             3.0  \n",
       "4               1.0             1.0  \n",
       "..              ...             ...  \n",
       "65              0.0             2.0  \n",
       "66              0.0             0.0  \n",
       "67              1.0             3.0  \n",
       "68              1.0             3.0  \n",
       "69              1.0             3.0  \n",
       "\n",
       "[70 rows x 6 columns]"
      ]
     },
     "execution_count": 17,
     "metadata": {},
     "output_type": "execute_result"
    }
   ],
   "source": [
    "df.fillna(0)"
   ]
  },
  {
   "cell_type": "code",
   "execution_count": 21,
   "metadata": {},
   "outputs": [],
   "source": [
    "result_df = pd.DataFrame()\n",
    "for i in range(1,3):\n",
    "    df = pd.read_excel(DATA_PATH + f'Hand-annotated - {i}.xlsx')\n",
    "    df.fillna(0)\n",
    "    df.columns = [f'{col}_{i}' for col in df.columns]\n",
    "    result_df = pd.concat([result_df, df], axis=1)"
   ]
  },
  {
   "cell_type": "code",
   "execution_count": 24,
   "metadata": {},
   "outputs": [
    {
     "data": {
      "text/html": [
       "<div>\n",
       "<style scoped>\n",
       "    .dataframe tbody tr th:only-of-type {\n",
       "        vertical-align: middle;\n",
       "    }\n",
       "\n",
       "    .dataframe tbody tr th {\n",
       "        vertical-align: top;\n",
       "    }\n",
       "\n",
       "    .dataframe thead th {\n",
       "        text-align: right;\n",
       "    }\n",
       "</style>\n",
       "<table border=\"1\" class=\"dataframe\">\n",
       "  <thead>\n",
       "    <tr style=\"text-align: right;\">\n",
       "      <th></th>\n",
       "      <th>id_1</th>\n",
       "      <th>title_1</th>\n",
       "      <th>альтернативный title_1</th>\n",
       "      <th>Humorousness_1</th>\n",
       "      <th>Appropriateness_1</th>\n",
       "      <th>Grammaticality_1</th>\n",
       "      <th>id_2</th>\n",
       "      <th>title_2</th>\n",
       "      <th>альтернативный title_2</th>\n",
       "      <th>Humorousness_2</th>\n",
       "      <th>Appropriateness_2</th>\n",
       "      <th>Grammaticality_2</th>\n",
       "    </tr>\n",
       "  </thead>\n",
       "  <tbody>\n",
       "    <tr>\n",
       "      <th>0</th>\n",
       "      <td>251118</td>\n",
       "      <td>In Japan, a Liberal Maverick Is Seeking to Lea...</td>\n",
       "      <td>In Japan, a Liberal Maverick Is leaking to Lea...</td>\n",
       "      <td>1.0</td>\n",
       "      <td>1.0</td>\n",
       "      <td>2.0</td>\n",
       "      <td>251118</td>\n",
       "      <td>In Japan, a Liberal Maverick Is Seeking to Lea...</td>\n",
       "      <td>In Japan, a Liberal Maverick Is leaking to Lea...</td>\n",
       "      <td>1.0</td>\n",
       "      <td>2.0</td>\n",
       "      <td>3</td>\n",
       "    </tr>\n",
       "  </tbody>\n",
       "</table>\n",
       "</div>"
      ],
      "text/plain": [
       "     id_1                                            title_1  \\\n",
       "0  251118  In Japan, a Liberal Maverick Is Seeking to Lea...   \n",
       "\n",
       "                              альтернативный title_1  Humorousness_1  \\\n",
       "0  In Japan, a Liberal Maverick Is leaking to Lea...             1.0   \n",
       "\n",
       "   Appropriateness_1  Grammaticality_1    id_2  \\\n",
       "0                1.0               2.0  251118   \n",
       "\n",
       "                                             title_2  \\\n",
       "0  In Japan, a Liberal Maverick Is Seeking to Lea...   \n",
       "\n",
       "                              альтернативный title_2  Humorousness_2  \\\n",
       "0  In Japan, a Liberal Maverick Is leaking to Lea...             1.0   \n",
       "\n",
       "   Appropriateness_2  Grammaticality_2  \n",
       "0                2.0                 3  "
      ]
     },
     "execution_count": 24,
     "metadata": {},
     "output_type": "execute_result"
    }
   ],
   "source": [
    "result_df.head(1)"
   ]
  },
  {
   "cell_type": "code",
   "execution_count": 25,
   "metadata": {},
   "outputs": [
    {
     "name": "stdout",
     "output_type": "stream",
     "text": [
      "Humorousness 1.4090909090909092\n",
      "Appropriateness 1.4090909090909092\n",
      "Grammaticality 2.8656716417910446\n"
     ]
    }
   ],
   "source": [
    "needed_columns = ['Humorousness', 'Appropriateness', 'Grammaticality']\n",
    "\n",
    "for col in needed_columns:\n",
    "    result_df[f'sum_{col}'] = 0\n",
    "\n",
    "for col in needed_columns:\n",
    "    for i in range(1,3):\n",
    "        result_df[f'sum_{col}'] += result_df[f'{col}_{i}']\n",
    "        \n",
    "for col in needed_columns:\n",
    "    result_df[f'sum_{col}'] /= 2\n",
    "\n",
    "    \n",
    "for col in needed_columns:\n",
    "    print(col, result_df[f'sum_{col}'].mean())"
   ]
  },
  {
   "cell_type": "markdown",
   "metadata": {},
   "source": [
    "## Changed_collocations"
   ]
  },
  {
   "cell_type": "code",
   "execution_count": 26,
   "metadata": {},
   "outputs": [],
   "source": [
    "result_df = pd.DataFrame()\n",
    "for i in range(1,3):\n",
    "    df = pd.read_excel(DATA_PATH + f'Changed_collocations - {i}.xlsx')\n",
    "    df.fillna(0)\n",
    "    df.columns = [f'{col}_{i}' for col in df.columns]\n",
    "    result_df = pd.concat([result_df, df], axis=1)"
   ]
  },
  {
   "cell_type": "code",
   "execution_count": 27,
   "metadata": {},
   "outputs": [
    {
     "data": {
      "text/html": [
       "<div>\n",
       "<style scoped>\n",
       "    .dataframe tbody tr th:only-of-type {\n",
       "        vertical-align: middle;\n",
       "    }\n",
       "\n",
       "    .dataframe tbody tr th {\n",
       "        vertical-align: top;\n",
       "    }\n",
       "\n",
       "    .dataframe thead th {\n",
       "        text-align: right;\n",
       "    }\n",
       "</style>\n",
       "<table border=\"1\" class=\"dataframe\">\n",
       "  <thead>\n",
       "    <tr style=\"text-align: right;\">\n",
       "      <th></th>\n",
       "      <th>example_id_1</th>\n",
       "      <th>sent_id_1</th>\n",
       "      <th>sent_1</th>\n",
       "      <th>span_1</th>\n",
       "      <th>original_collocation_1</th>\n",
       "      <th>changed_collocation_1</th>\n",
       "      <th>Humorousness_1</th>\n",
       "      <th>Appropriateness_1</th>\n",
       "      <th>Grammaticality_1</th>\n",
       "      <th>example_id_2</th>\n",
       "      <th>sent_id_2</th>\n",
       "      <th>sent_2</th>\n",
       "      <th>span_2</th>\n",
       "      <th>original_collocation_2</th>\n",
       "      <th>changed_collocation_2</th>\n",
       "      <th>Humorousness_2</th>\n",
       "      <th>Appropriateness_2</th>\n",
       "      <th>Grammaticality_2</th>\n",
       "    </tr>\n",
       "  </thead>\n",
       "  <tbody>\n",
       "    <tr>\n",
       "      <th>0</th>\n",
       "      <td>0</td>\n",
       "      <td>0</td>\n",
       "      <td>melania trump says white house could mean mill...</td>\n",
       "      <td>(5, 6)</td>\n",
       "      <td>('could_VERB', 'mean_VERB')</td>\n",
       "      <td>('could_VERB', 'resurface_VERB')</td>\n",
       "      <td>1</td>\n",
       "      <td>3</td>\n",
       "      <td>3</td>\n",
       "      <td>0</td>\n",
       "      <td>0</td>\n",
       "      <td>melania trump says white house could mean mill...</td>\n",
       "      <td>(5, 6)</td>\n",
       "      <td>('could_VERB', 'mean_VERB')</td>\n",
       "      <td>('could_VERB', 'resurface_VERB')</td>\n",
       "      <td>0.0</td>\n",
       "      <td>2.0</td>\n",
       "      <td>3.0</td>\n",
       "    </tr>\n",
       "  </tbody>\n",
       "</table>\n",
       "</div>"
      ],
      "text/plain": [
       "   example_id_1  sent_id_1                                             sent_1  \\\n",
       "0             0          0  melania trump says white house could mean mill...   \n",
       "\n",
       "   span_1       original_collocation_1             changed_collocation_1  \\\n",
       "0  (5, 6)  ('could_VERB', 'mean_VERB')  ('could_VERB', 'resurface_VERB')   \n",
       "\n",
       "   Humorousness_1  Appropriateness_1  Grammaticality_1  example_id_2  \\\n",
       "0               1                  3                 3             0   \n",
       "\n",
       "   sent_id_2                                             sent_2  span_2  \\\n",
       "0          0  melania trump says white house could mean mill...  (5, 6)   \n",
       "\n",
       "        original_collocation_2             changed_collocation_2  \\\n",
       "0  ('could_VERB', 'mean_VERB')  ('could_VERB', 'resurface_VERB')   \n",
       "\n",
       "   Humorousness_2  Appropriateness_2  Grammaticality_2  \n",
       "0             0.0                2.0               3.0  "
      ]
     },
     "execution_count": 27,
     "metadata": {},
     "output_type": "execute_result"
    }
   ],
   "source": [
    "result_df.head(1)"
   ]
  },
  {
   "cell_type": "code",
   "execution_count": 28,
   "metadata": {},
   "outputs": [
    {
     "name": "stdout",
     "output_type": "stream",
     "text": [
      "Humorousness 0.7666666666666667\n",
      "Appropriateness 1.7666666666666666\n",
      "Grammaticality 2.096296296296296\n"
     ]
    }
   ],
   "source": [
    "needed_columns = ['Humorousness', 'Appropriateness', 'Grammaticality']\n",
    "\n",
    "for col in needed_columns:\n",
    "    result_df[f'sum_{col}'] = 0\n",
    "\n",
    "for col in needed_columns:\n",
    "    for i in range(1,3):\n",
    "        result_df[f'sum_{col}'] += result_df[f'{col}_{i}']\n",
    "        \n",
    "for col in needed_columns:\n",
    "    result_df[f'sum_{col}'] /= 2\n",
    "\n",
    "    \n",
    "for col in needed_columns:\n",
    "    print(col, result_df[f'sum_{col}'].mean())"
   ]
  },
  {
   "cell_type": "code",
   "execution_count": null,
   "metadata": {},
   "outputs": [],
   "source": []
  }
 ],
 "metadata": {
  "kernelspec": {
   "display_name": "Python 3",
   "language": "python",
   "name": "python3"
  },
  "language_info": {
   "codemirror_mode": {
    "name": "ipython",
    "version": 3
   },
   "file_extension": ".py",
   "mimetype": "text/x-python",
   "name": "python",
   "nbconvert_exporter": "python",
   "pygments_lexer": "ipython3",
   "version": "3.8.5"
  }
 },
 "nbformat": 4,
 "nbformat_minor": 5
}
